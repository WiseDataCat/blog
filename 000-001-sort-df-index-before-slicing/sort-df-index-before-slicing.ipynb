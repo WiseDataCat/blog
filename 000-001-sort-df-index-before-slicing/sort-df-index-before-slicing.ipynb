{
 "cells": [
  {
   "cell_type": "code",
   "execution_count": 1,
   "metadata": {},
   "outputs": [],
   "source": [
    "import time\n",
    "import zlib\n",
    "\n",
    "import numpy as np\n",
    "from numpy import random\n",
    "import pandas as pd\n",
    "\n",
    "from tqdm import tqdm\n",
    "from faker import Faker"
   ]
  },
  {
   "cell_type": "code",
   "execution_count": 2,
   "metadata": {
    "collapsed": true
   },
   "outputs": [],
   "source": [
    "UNIQUE_VALUES = 40_000\n",
    "ROW_COUNT = 5_000_000"
   ]
  },
  {
   "cell_type": "code",
   "execution_count": 3,
   "metadata": {
    "collapsed": true
   },
   "outputs": [],
   "source": [
    "faker_gen = Faker()"
   ]
  },
  {
   "cell_type": "code",
   "execution_count": 4,
   "metadata": {},
   "outputs": [
    {
     "name": "stderr",
     "output_type": "stream",
     "text": [
      "40000it [00:03, 10920.85it/s]\n"
     ]
    }
   ],
   "source": [
    "full_names = []\n",
    "full_names_genenator = (faker_gen.name() for _ in range(UNIQUE_VALUES))\n",
    "\n",
    "# Oh yes, we want to track progress\n",
    "for name in tqdm(full_names_genenator):\n",
    "    full_names.append(name)"
   ]
  },
  {
   "cell_type": "code",
   "execution_count": 5,
   "metadata": {
    "collapsed": true
   },
   "outputs": [],
   "source": [
    "index_values = random.choice(full_names, size=ROW_COUNT)"
   ]
  },
  {
   "cell_type": "code",
   "execution_count": 6,
   "metadata": {},
   "outputs": [
    {
     "name": "stderr",
     "output_type": "stream",
     "text": [
      "5000000it [00:18, 264011.53it/s]\n"
     ]
    }
   ],
   "source": [
    "zipcode_generator = (faker_gen.zipcode() for _ in range(ROW_COUNT))\n",
    "zipcodes = []\n",
    "\n",
    "# Oh yes, we want to track progress\n",
    "for zipcode in tqdm(zipcode_generator):\n",
    "    zipcodes.append(zipcode)"
   ]
  },
  {
   "cell_type": "code",
   "execution_count": 7,
   "metadata": {},
   "outputs": [],
   "source": [
    "salary_changes = random.uniform(low=-5, high=20, size=ROW_COUNT)\n",
    "salary_changes = np.around(salary_changes, decimals=1)"
   ]
  },
  {
   "cell_type": "code",
   "execution_count": 8,
   "metadata": {},
   "outputs": [],
   "source": [
    "company_ids = random.randint(2**63, size=ROW_COUNT)"
   ]
  },
  {
   "cell_type": "code",
   "execution_count": 9,
   "metadata": {},
   "outputs": [],
   "source": [
    "df = pd.DataFrame(\n",
    "    index=index_values,\n",
    "    data={\"zipcode\": zipcodes, \"company_id\": company_ids, \"salary_change\": salary_changes,\n",
    "          \"sort_id\": list(range(ROW_COUNT))}\n",
    ")"
   ]
  },
  {
   "cell_type": "code",
   "execution_count": 10,
   "metadata": {},
   "outputs": [
    {
     "data": {
      "text/plain": [
       "zipcode           object\n",
       "company_id         int64\n",
       "salary_change    float64\n",
       "sort_id            int64\n",
       "dtype: object"
      ]
     },
     "execution_count": 10,
     "metadata": {},
     "output_type": "execute_result"
    }
   ],
   "source": [
    "df.dtypes"
   ]
  },
  {
   "cell_type": "code",
   "execution_count": 11,
   "metadata": {},
   "outputs": [
    {
     "data": {
      "text/html": [
       "<div>\n",
       "<style scoped>\n",
       "    .dataframe tbody tr th:only-of-type {\n",
       "        vertical-align: middle;\n",
       "    }\n",
       "\n",
       "    .dataframe tbody tr th {\n",
       "        vertical-align: top;\n",
       "    }\n",
       "\n",
       "    .dataframe thead th {\n",
       "        text-align: right;\n",
       "    }\n",
       "</style>\n",
       "<table border=\"1\" class=\"dataframe\">\n",
       "  <thead>\n",
       "    <tr style=\"text-align: right;\">\n",
       "      <th></th>\n",
       "      <th>zipcode</th>\n",
       "      <th>company_id</th>\n",
       "      <th>salary_change</th>\n",
       "      <th>sort_id</th>\n",
       "    </tr>\n",
       "  </thead>\n",
       "  <tbody>\n",
       "    <tr>\n",
       "      <th>Sarah Riggs</th>\n",
       "      <td>21996</td>\n",
       "      <td>2361990376624414571</td>\n",
       "      <td>-0.8</td>\n",
       "      <td>0</td>\n",
       "    </tr>\n",
       "    <tr>\n",
       "      <th>Matthew Jones</th>\n",
       "      <td>02512</td>\n",
       "      <td>6528427614962353275</td>\n",
       "      <td>10.3</td>\n",
       "      <td>1</td>\n",
       "    </tr>\n",
       "    <tr>\n",
       "      <th>Jason Smith</th>\n",
       "      <td>54238</td>\n",
       "      <td>8255113603324170872</td>\n",
       "      <td>3.8</td>\n",
       "      <td>2</td>\n",
       "    </tr>\n",
       "    <tr>\n",
       "      <th>Maurice Taylor</th>\n",
       "      <td>15685</td>\n",
       "      <td>298809915939219002</td>\n",
       "      <td>0.3</td>\n",
       "      <td>3</td>\n",
       "    </tr>\n",
       "    <tr>\n",
       "      <th>Gabriela Dominguez</th>\n",
       "      <td>32658</td>\n",
       "      <td>3425765616788486759</td>\n",
       "      <td>19.5</td>\n",
       "      <td>4</td>\n",
       "    </tr>\n",
       "    <tr>\n",
       "      <th>...</th>\n",
       "      <td>...</td>\n",
       "      <td>...</td>\n",
       "      <td>...</td>\n",
       "      <td>...</td>\n",
       "    </tr>\n",
       "    <tr>\n",
       "      <th>Robert Greene</th>\n",
       "      <td>80317</td>\n",
       "      <td>2642301740503478723</td>\n",
       "      <td>18.1</td>\n",
       "      <td>4999995</td>\n",
       "    </tr>\n",
       "    <tr>\n",
       "      <th>Ariel Yu</th>\n",
       "      <td>40585</td>\n",
       "      <td>5412565742354704424</td>\n",
       "      <td>-3.1</td>\n",
       "      <td>4999996</td>\n",
       "    </tr>\n",
       "    <tr>\n",
       "      <th>Mark Shepherd</th>\n",
       "      <td>14032</td>\n",
       "      <td>2298913774861761165</td>\n",
       "      <td>-1.8</td>\n",
       "      <td>4999997</td>\n",
       "    </tr>\n",
       "    <tr>\n",
       "      <th>Pamela Cowan</th>\n",
       "      <td>41828</td>\n",
       "      <td>5647069525706721049</td>\n",
       "      <td>11.9</td>\n",
       "      <td>4999998</td>\n",
       "    </tr>\n",
       "    <tr>\n",
       "      <th>Cameron Trevino</th>\n",
       "      <td>46122</td>\n",
       "      <td>796287547674487845</td>\n",
       "      <td>19.8</td>\n",
       "      <td>4999999</td>\n",
       "    </tr>\n",
       "  </tbody>\n",
       "</table>\n",
       "<p>5000000 rows × 4 columns</p>\n",
       "</div>"
      ],
      "text/plain": [
       "                   zipcode           company_id  salary_change  sort_id\n",
       "Sarah Riggs          21996  2361990376624414571           -0.8        0\n",
       "Matthew Jones        02512  6528427614962353275           10.3        1\n",
       "Jason Smith          54238  8255113603324170872            3.8        2\n",
       "Maurice Taylor       15685   298809915939219002            0.3        3\n",
       "Gabriela Dominguez   32658  3425765616788486759           19.5        4\n",
       "...                    ...                  ...            ...      ...\n",
       "Robert Greene        80317  2642301740503478723           18.1  4999995\n",
       "Ariel Yu             40585  5412565742354704424           -3.1  4999996\n",
       "Mark Shepherd        14032  2298913774861761165           -1.8  4999997\n",
       "Pamela Cowan         41828  5647069525706721049           11.9  4999998\n",
       "Cameron Trevino      46122   796287547674487845           19.8  4999999\n",
       "\n",
       "[5000000 rows x 4 columns]"
      ]
     },
     "execution_count": 11,
     "metadata": {},
     "output_type": "execute_result"
    }
   ],
   "source": [
    "df"
   ]
  },
  {
   "cell_type": "code",
   "execution_count": 12,
   "metadata": {},
   "outputs": [
    {
     "name": "stdout",
     "output_type": "stream",
     "text": [
      "The random index is: `Karen Robinson`\n"
     ]
    }
   ],
   "source": [
    "RANDOM_ILOC = 4907\n",
    "RANDOM_IDX = df.index[RANDOM_ILOC]\n",
    "print(f\"The random index is: `{RANDOM_IDX}`\")"
   ]
  },
  {
   "cell_type": "code",
   "execution_count": 13,
   "metadata": {},
   "outputs": [
    {
     "name": "stdout",
     "output_type": "stream",
     "text": [
      "68.8 ms ± 967 µs per loop (mean ± std. dev. of 7 runs, 1 loop each)\n"
     ]
    }
   ],
   "source": [
    "%timeit df.loc[RANDOM_IDX]"
   ]
  },
  {
   "cell_type": "code",
   "execution_count": 14,
   "metadata": {},
   "outputs": [
    {
     "name": "stdout",
     "output_type": "stream",
     "text": [
      "CPU times: user 6.48 s, sys: 620 ms, total: 7.1 s\n",
      "Wall time: 7.1 s\n"
     ]
    }
   ],
   "source": [
    "%time sorted_df = df.reset_index().sort_values([\"index\", \"sort_id\"]).set_index(\"index\")  # Stable sort"
   ]
  },
  {
   "cell_type": "code",
   "execution_count": 15,
   "metadata": {},
   "outputs": [
    {
     "name": "stdout",
     "output_type": "stream",
     "text": [
      "183 µs ± 21.2 µs per loop (mean ± std. dev. of 7 runs, 1 loop each)\n"
     ]
    }
   ],
   "source": [
    "%timeit sorted_df.loc[RANDOM_IDX]"
   ]
  },
  {
   "cell_type": "code",
   "execution_count": 16,
   "metadata": {},
   "outputs": [],
   "source": [
    "def custom_func(row) -> int:\n",
    "    return zlib.crc32(row[\"zipcode\"].encode(\"ascii\") + str(row[\"company_id\"]).encode(\"ascii\"))\n",
    "\n",
    "def ops_per_slice(mini_df: pd.DataFrame) -> pd.DataFrame:\n",
    "    mini_df[\"hash\"] = mini_df.apply(custom_func, axis=1)\n",
    "    mini_df[\"prev_change\"] = mini_df.salary_change.shift()\n",
    "    return mini_df"
   ]
  },
  {
   "cell_type": "code",
   "execution_count": 17,
   "metadata": {
    "collapsed": true
   },
   "outputs": [],
   "source": [
    "def operations_on_df(input_df: pd.DataFrame, percent: int = 1) -> pd.DataFrame:\n",
    "    assert percent > 0\n",
    "    assert percent <= 100\n",
    "    indexes = input_df.index.unique()\n",
    "\n",
    "    # We just want a fraction of it for demo\n",
    "    indexes = indexes[:int(percent * len(indexes) / 100)]\n",
    "    \n",
    "    result_dfs = []\n",
    "\n",
    "    for index in tqdm(indexes):\n",
    "        mini_df = input_df.loc[[index]]\n",
    "        tmp_res = ops_per_slice(mini_df)\n",
    "        result_dfs.append(tmp_res)\n",
    "        \n",
    "    return pd.concat(result_dfs)"
   ]
  },
  {
   "cell_type": "code",
   "execution_count": 18,
   "metadata": {},
   "outputs": [
    {
     "name": "stderr",
     "output_type": "stream",
     "text": [
      "100%|██████████| 331/331 [00:29<00:00, 11.17it/s]\n"
     ]
    },
    {
     "name": "stdout",
     "output_type": "stream",
     "text": [
      "CPU times: user 30 s, sys: 309 ms, total: 30.3 s\n",
      "Wall time: 30.3 s\n"
     ]
    },
    {
     "data": {
      "text/html": [
       "<div>\n",
       "<style scoped>\n",
       "    .dataframe tbody tr th:only-of-type {\n",
       "        vertical-align: middle;\n",
       "    }\n",
       "\n",
       "    .dataframe tbody tr th {\n",
       "        vertical-align: top;\n",
       "    }\n",
       "\n",
       "    .dataframe thead th {\n",
       "        text-align: right;\n",
       "    }\n",
       "</style>\n",
       "<table border=\"1\" class=\"dataframe\">\n",
       "  <thead>\n",
       "    <tr style=\"text-align: right;\">\n",
       "      <th></th>\n",
       "      <th>zipcode</th>\n",
       "      <th>company_id</th>\n",
       "      <th>salary_change</th>\n",
       "      <th>sort_id</th>\n",
       "      <th>hash</th>\n",
       "      <th>prev_change</th>\n",
       "    </tr>\n",
       "  </thead>\n",
       "  <tbody>\n",
       "    <tr>\n",
       "      <th>Sarah Riggs</th>\n",
       "      <td>21996</td>\n",
       "      <td>2361990376624414571</td>\n",
       "      <td>-0.8</td>\n",
       "      <td>0</td>\n",
       "      <td>189326387</td>\n",
       "      <td>NaN</td>\n",
       "    </tr>\n",
       "    <tr>\n",
       "      <th>Sarah Riggs</th>\n",
       "      <td>20981</td>\n",
       "      <td>3700974451310395564</td>\n",
       "      <td>6.0</td>\n",
       "      <td>1638</td>\n",
       "      <td>844534113</td>\n",
       "      <td>-0.8</td>\n",
       "    </tr>\n",
       "    <tr>\n",
       "      <th>Sarah Riggs</th>\n",
       "      <td>03052</td>\n",
       "      <td>8226229964558160138</td>\n",
       "      <td>18.5</td>\n",
       "      <td>104329</td>\n",
       "      <td>1310002665</td>\n",
       "      <td>6.0</td>\n",
       "    </tr>\n",
       "    <tr>\n",
       "      <th>Sarah Riggs</th>\n",
       "      <td>49524</td>\n",
       "      <td>5762822596102298036</td>\n",
       "      <td>17.3</td>\n",
       "      <td>164934</td>\n",
       "      <td>2620282093</td>\n",
       "      <td>18.5</td>\n",
       "    </tr>\n",
       "    <tr>\n",
       "      <th>Sarah Riggs</th>\n",
       "      <td>18438</td>\n",
       "      <td>5654063569205819625</td>\n",
       "      <td>15.0</td>\n",
       "      <td>259770</td>\n",
       "      <td>1665220583</td>\n",
       "      <td>17.3</td>\n",
       "    </tr>\n",
       "    <tr>\n",
       "      <th>...</th>\n",
       "      <td>...</td>\n",
       "      <td>...</td>\n",
       "      <td>...</td>\n",
       "      <td>...</td>\n",
       "      <td>...</td>\n",
       "      <td>...</td>\n",
       "    </tr>\n",
       "    <tr>\n",
       "      <th>Gina Gamble</th>\n",
       "      <td>25181</td>\n",
       "      <td>2095302418803573248</td>\n",
       "      <td>13.8</td>\n",
       "      <td>4860990</td>\n",
       "      <td>3727212992</td>\n",
       "      <td>3.4</td>\n",
       "    </tr>\n",
       "    <tr>\n",
       "      <th>Gina Gamble</th>\n",
       "      <td>45431</td>\n",
       "      <td>1894478488652672034</td>\n",
       "      <td>-0.2</td>\n",
       "      <td>4863649</td>\n",
       "      <td>2211409539</td>\n",
       "      <td>13.8</td>\n",
       "    </tr>\n",
       "    <tr>\n",
       "      <th>Gina Gamble</th>\n",
       "      <td>17772</td>\n",
       "      <td>3237888501089126040</td>\n",
       "      <td>1.1</td>\n",
       "      <td>4870636</td>\n",
       "      <td>1227281380</td>\n",
       "      <td>-0.2</td>\n",
       "    </tr>\n",
       "    <tr>\n",
       "      <th>Gina Gamble</th>\n",
       "      <td>08683</td>\n",
       "      <td>3132875107733488595</td>\n",
       "      <td>-2.3</td>\n",
       "      <td>4947059</td>\n",
       "      <td>2884680446</td>\n",
       "      <td>1.1</td>\n",
       "    </tr>\n",
       "    <tr>\n",
       "      <th>Gina Gamble</th>\n",
       "      <td>28610</td>\n",
       "      <td>8731441029560916001</td>\n",
       "      <td>6.6</td>\n",
       "      <td>4947127</td>\n",
       "      <td>418350692</td>\n",
       "      <td>-2.3</td>\n",
       "    </tr>\n",
       "  </tbody>\n",
       "</table>\n",
       "<p>70331 rows × 6 columns</p>\n",
       "</div>"
      ],
      "text/plain": [
       "            zipcode           company_id  salary_change  sort_id        hash  \\\n",
       "Sarah Riggs   21996  2361990376624414571           -0.8        0   189326387   \n",
       "Sarah Riggs   20981  3700974451310395564            6.0     1638   844534113   \n",
       "Sarah Riggs   03052  8226229964558160138           18.5   104329  1310002665   \n",
       "Sarah Riggs   49524  5762822596102298036           17.3   164934  2620282093   \n",
       "Sarah Riggs   18438  5654063569205819625           15.0   259770  1665220583   \n",
       "...             ...                  ...            ...      ...         ...   \n",
       "Gina Gamble   25181  2095302418803573248           13.8  4860990  3727212992   \n",
       "Gina Gamble   45431  1894478488652672034           -0.2  4863649  2211409539   \n",
       "Gina Gamble   17772  3237888501089126040            1.1  4870636  1227281380   \n",
       "Gina Gamble   08683  3132875107733488595           -2.3  4947059  2884680446   \n",
       "Gina Gamble   28610  8731441029560916001            6.6  4947127   418350692   \n",
       "\n",
       "             prev_change  \n",
       "Sarah Riggs          NaN  \n",
       "Sarah Riggs         -0.8  \n",
       "Sarah Riggs          6.0  \n",
       "Sarah Riggs         18.5  \n",
       "Sarah Riggs         17.3  \n",
       "...                  ...  \n",
       "Gina Gamble          3.4  \n",
       "Gina Gamble         13.8  \n",
       "Gina Gamble         -0.2  \n",
       "Gina Gamble          1.1  \n",
       "Gina Gamble         -2.3  \n",
       "\n",
       "[70331 rows x 6 columns]"
      ]
     },
     "execution_count": 18,
     "metadata": {},
     "output_type": "execute_result"
    }
   ],
   "source": [
    "%time operations_on_df(df)"
   ]
  },
  {
   "cell_type": "code",
   "execution_count": 19,
   "metadata": {
    "scrolled": false
   },
   "outputs": [
    {
     "name": "stderr",
     "output_type": "stream",
     "text": [
      "100%|██████████| 331/331 [00:02<00:00, 159.95it/s]\n"
     ]
    },
    {
     "name": "stdout",
     "output_type": "stream",
     "text": [
      "CPU times: user 3.38 s, sys: 85 ms, total: 3.47 s\n",
      "Wall time: 3.44 s\n"
     ]
    },
    {
     "data": {
      "text/html": [
       "<div>\n",
       "<style scoped>\n",
       "    .dataframe tbody tr th:only-of-type {\n",
       "        vertical-align: middle;\n",
       "    }\n",
       "\n",
       "    .dataframe tbody tr th {\n",
       "        vertical-align: top;\n",
       "    }\n",
       "\n",
       "    .dataframe thead th {\n",
       "        text-align: right;\n",
       "    }\n",
       "</style>\n",
       "<table border=\"1\" class=\"dataframe\">\n",
       "  <thead>\n",
       "    <tr style=\"text-align: right;\">\n",
       "      <th></th>\n",
       "      <th>zipcode</th>\n",
       "      <th>company_id</th>\n",
       "      <th>salary_change</th>\n",
       "      <th>sort_id</th>\n",
       "      <th>hash</th>\n",
       "      <th>prev_change</th>\n",
       "    </tr>\n",
       "    <tr>\n",
       "      <th>index</th>\n",
       "      <th></th>\n",
       "      <th></th>\n",
       "      <th></th>\n",
       "      <th></th>\n",
       "      <th></th>\n",
       "      <th></th>\n",
       "    </tr>\n",
       "  </thead>\n",
       "  <tbody>\n",
       "    <tr>\n",
       "      <th>Aaron Adkins</th>\n",
       "      <td>26185</td>\n",
       "      <td>9107979203059267955</td>\n",
       "      <td>12.5</td>\n",
       "      <td>2051</td>\n",
       "      <td>3850086661</td>\n",
       "      <td>NaN</td>\n",
       "    </tr>\n",
       "    <tr>\n",
       "      <th>Aaron Adkins</th>\n",
       "      <td>80654</td>\n",
       "      <td>9212690069555363938</td>\n",
       "      <td>-5.0</td>\n",
       "      <td>16126</td>\n",
       "      <td>1448707006</td>\n",
       "      <td>12.5</td>\n",
       "    </tr>\n",
       "    <tr>\n",
       "      <th>Aaron Adkins</th>\n",
       "      <td>24452</td>\n",
       "      <td>6934899145183938796</td>\n",
       "      <td>11.4</td>\n",
       "      <td>22357</td>\n",
       "      <td>1899769728</td>\n",
       "      <td>-5.0</td>\n",
       "    </tr>\n",
       "    <tr>\n",
       "      <th>Aaron Adkins</th>\n",
       "      <td>33239</td>\n",
       "      <td>3076589748400004361</td>\n",
       "      <td>-3.7</td>\n",
       "      <td>36872</td>\n",
       "      <td>3857436049</td>\n",
       "      <td>11.4</td>\n",
       "    </tr>\n",
       "    <tr>\n",
       "      <th>Aaron Adkins</th>\n",
       "      <td>99785</td>\n",
       "      <td>6286608026656905232</td>\n",
       "      <td>7.9</td>\n",
       "      <td>46287</td>\n",
       "      <td>987917749</td>\n",
       "      <td>-3.7</td>\n",
       "    </tr>\n",
       "    <tr>\n",
       "      <th>...</th>\n",
       "      <td>...</td>\n",
       "      <td>...</td>\n",
       "      <td>...</td>\n",
       "      <td>...</td>\n",
       "      <td>...</td>\n",
       "      <td>...</td>\n",
       "    </tr>\n",
       "    <tr>\n",
       "      <th>Adrienne Schmidt</th>\n",
       "      <td>08881</td>\n",
       "      <td>8657856856470075209</td>\n",
       "      <td>18.3</td>\n",
       "      <td>4940097</td>\n",
       "      <td>3642743413</td>\n",
       "      <td>18.2</td>\n",
       "    </tr>\n",
       "    <tr>\n",
       "      <th>Adrienne Schmidt</th>\n",
       "      <td>25511</td>\n",
       "      <td>5381684259270911311</td>\n",
       "      <td>-3.0</td>\n",
       "      <td>4954568</td>\n",
       "      <td>577931621</td>\n",
       "      <td>18.3</td>\n",
       "    </tr>\n",
       "    <tr>\n",
       "      <th>Adrienne Schmidt</th>\n",
       "      <td>06589</td>\n",
       "      <td>3271103089986577376</td>\n",
       "      <td>-2.9</td>\n",
       "      <td>4974531</td>\n",
       "      <td>3248851887</td>\n",
       "      <td>-3.0</td>\n",
       "    </tr>\n",
       "    <tr>\n",
       "      <th>Adrienne Schmidt</th>\n",
       "      <td>37007</td>\n",
       "      <td>3689068023824990321</td>\n",
       "      <td>9.3</td>\n",
       "      <td>4977631</td>\n",
       "      <td>1058922313</td>\n",
       "      <td>-2.9</td>\n",
       "    </tr>\n",
       "    <tr>\n",
       "      <th>Adrienne Schmidt</th>\n",
       "      <td>92911</td>\n",
       "      <td>7368804196694710902</td>\n",
       "      <td>14.5</td>\n",
       "      <td>4982151</td>\n",
       "      <td>846092296</td>\n",
       "      <td>9.3</td>\n",
       "    </tr>\n",
       "  </tbody>\n",
       "</table>\n",
       "<p>48203 rows × 6 columns</p>\n",
       "</div>"
      ],
      "text/plain": [
       "                 zipcode           company_id  salary_change  sort_id  \\\n",
       "index                                                                   \n",
       "Aaron Adkins       26185  9107979203059267955           12.5     2051   \n",
       "Aaron Adkins       80654  9212690069555363938           -5.0    16126   \n",
       "Aaron Adkins       24452  6934899145183938796           11.4    22357   \n",
       "Aaron Adkins       33239  3076589748400004361           -3.7    36872   \n",
       "Aaron Adkins       99785  6286608026656905232            7.9    46287   \n",
       "...                  ...                  ...            ...      ...   \n",
       "Adrienne Schmidt   08881  8657856856470075209           18.3  4940097   \n",
       "Adrienne Schmidt   25511  5381684259270911311           -3.0  4954568   \n",
       "Adrienne Schmidt   06589  3271103089986577376           -2.9  4974531   \n",
       "Adrienne Schmidt   37007  3689068023824990321            9.3  4977631   \n",
       "Adrienne Schmidt   92911  7368804196694710902           14.5  4982151   \n",
       "\n",
       "                        hash  prev_change  \n",
       "index                                      \n",
       "Aaron Adkins      3850086661          NaN  \n",
       "Aaron Adkins      1448707006         12.5  \n",
       "Aaron Adkins      1899769728         -5.0  \n",
       "Aaron Adkins      3857436049         11.4  \n",
       "Aaron Adkins       987917749         -3.7  \n",
       "...                      ...          ...  \n",
       "Adrienne Schmidt  3642743413         18.2  \n",
       "Adrienne Schmidt   577931621         18.3  \n",
       "Adrienne Schmidt  3248851887         -3.0  \n",
       "Adrienne Schmidt  1058922313         -2.9  \n",
       "Adrienne Schmidt   846092296          9.3  \n",
       "\n",
       "[48203 rows x 6 columns]"
      ]
     },
     "execution_count": 19,
     "metadata": {},
     "output_type": "execute_result"
    }
   ],
   "source": [
    "%time operations_on_df(sorted_df)"
   ]
  }
 ],
 "metadata": {
  "kernelspec": {
   "display_name": "wise-data-cat-01",
   "language": "python",
   "name": "wise-data-cat-01"
  },
  "language_info": {
   "codemirror_mode": {
    "name": "ipython",
    "version": 3
   },
   "file_extension": ".py",
   "mimetype": "text/x-python",
   "name": "python",
   "nbconvert_exporter": "python",
   "pygments_lexer": "ipython3",
   "version": "3.6.3"
  }
 },
 "nbformat": 4,
 "nbformat_minor": 5
}
