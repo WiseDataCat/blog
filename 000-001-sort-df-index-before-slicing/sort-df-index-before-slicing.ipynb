{
 "cells": [
  {
   "cell_type": "code",
   "execution_count": 1,
   "metadata": {
    "collapsed": true
   },
   "outputs": [],
   "source": [
    "import time\n",
    "import zlib\n",
    "\n",
    "import numpy as np\n",
    "from numpy import random\n",
    "import pandas as pd\n",
    "\n",
    "from tqdm import tqdm\n",
    "from faker import Faker"
   ]
  },
  {
   "cell_type": "code",
   "execution_count": 2,
   "metadata": {
    "collapsed": true
   },
   "outputs": [],
   "source": [
    "UNIQUE_VALUES = 40_000\n",
    "ROW_COUNT = 5_000_000"
   ]
  },
  {
   "cell_type": "code",
   "execution_count": 3,
   "metadata": {
    "collapsed": true
   },
   "outputs": [],
   "source": [
    "faker_gen = Faker()"
   ]
  },
  {
   "cell_type": "code",
   "execution_count": 4,
   "metadata": {},
   "outputs": [
    {
     "name": "stderr",
     "output_type": "stream",
     "text": [
      "40000it [00:04, 8383.68it/s]\n"
     ]
    }
   ],
   "source": [
    "company_names = []\n",
    "company_names_genenator = (faker_gen.company() for _ in range(UNIQUE_VALUES))\n",
    "\n",
    "# Oh yes, we want to track progress\n",
    "for company in tqdm(company_names_genenator):\n",
    "    company_names.append(company)"
   ]
  },
  {
   "cell_type": "code",
   "execution_count": 5,
   "metadata": {
    "collapsed": true
   },
   "outputs": [],
   "source": [
    "index_values = random.choice(company_names, size=ROW_COUNT)"
   ]
  },
  {
   "cell_type": "code",
   "execution_count": 6,
   "metadata": {},
   "outputs": [
    {
     "name": "stderr",
     "output_type": "stream",
     "text": [
      "5000000it [00:19, 262369.96it/s]\n"
     ]
    }
   ],
   "source": [
    "zipcode_generator = (faker_gen.zipcode() for _ in range(ROW_COUNT))\n",
    "zipcodes = []\n",
    "\n",
    "# Oh yes, we want to track progress\n",
    "for zipcode in tqdm(zipcode_generator):\n",
    "    zipcodes.append(zipcode)"
   ]
  },
  {
   "cell_type": "code",
   "execution_count": 7,
   "metadata": {
    "collapsed": true
   },
   "outputs": [],
   "source": [
    "headcount_changes = random.uniform(low=-5, high=20, size=ROW_COUNT)\n",
    "headcount_changes = np.around(headcount_changes, decimals=1)"
   ]
  },
  {
   "cell_type": "code",
   "execution_count": 8,
   "metadata": {
    "collapsed": true
   },
   "outputs": [],
   "source": [
    "storage_sizes = random.randint(2**63, size=ROW_COUNT)"
   ]
  },
  {
   "cell_type": "code",
   "execution_count": 9,
   "metadata": {
    "collapsed": true
   },
   "outputs": [],
   "source": [
    "df = pd.DataFrame(\n",
    "    index=index_values,\n",
    "    data={\"zipcode\": zipcodes,\n",
    "          \"storage_size\": storage_sizes,\n",
    "          \"headcount_change\": headcount_changes,\n",
    "          \"sort_id\": list(range(ROW_COUNT))}\n",
    ")"
   ]
  },
  {
   "cell_type": "code",
   "execution_count": 10,
   "metadata": {},
   "outputs": [
    {
     "data": {
      "text/plain": [
       "zipcode              object\n",
       "storage_size          int64\n",
       "headcount_change    float64\n",
       "sort_id               int64\n",
       "dtype: object"
      ]
     },
     "execution_count": 10,
     "metadata": {},
     "output_type": "execute_result"
    }
   ],
   "source": [
    "df.dtypes"
   ]
  },
  {
   "cell_type": "code",
   "execution_count": 11,
   "metadata": {},
   "outputs": [
    {
     "data": {
      "text/html": [
       "<div>\n",
       "<style scoped>\n",
       "    .dataframe tbody tr th:only-of-type {\n",
       "        vertical-align: middle;\n",
       "    }\n",
       "\n",
       "    .dataframe tbody tr th {\n",
       "        vertical-align: top;\n",
       "    }\n",
       "\n",
       "    .dataframe thead th {\n",
       "        text-align: right;\n",
       "    }\n",
       "</style>\n",
       "<table border=\"1\" class=\"dataframe\">\n",
       "  <thead>\n",
       "    <tr style=\"text-align: right;\">\n",
       "      <th></th>\n",
       "      <th>zipcode</th>\n",
       "      <th>storage_size</th>\n",
       "      <th>headcount_change</th>\n",
       "      <th>sort_id</th>\n",
       "    </tr>\n",
       "  </thead>\n",
       "  <tbody>\n",
       "    <tr>\n",
       "      <th>Miller, Massey and Dominguez</th>\n",
       "      <td>98642</td>\n",
       "      <td>1309403095887968886</td>\n",
       "      <td>7.6</td>\n",
       "      <td>0</td>\n",
       "    </tr>\n",
       "    <tr>\n",
       "      <th>Jackson-Miller</th>\n",
       "      <td>30848</td>\n",
       "      <td>7527013096493984921</td>\n",
       "      <td>5.3</td>\n",
       "      <td>1</td>\n",
       "    </tr>\n",
       "    <tr>\n",
       "      <th>Joyce Ltd</th>\n",
       "      <td>72583</td>\n",
       "      <td>8724801935611110034</td>\n",
       "      <td>16.1</td>\n",
       "      <td>2</td>\n",
       "    </tr>\n",
       "    <tr>\n",
       "      <th>Benson, Vargas and Robinson</th>\n",
       "      <td>84575</td>\n",
       "      <td>895200032852436667</td>\n",
       "      <td>1.5</td>\n",
       "      <td>3</td>\n",
       "    </tr>\n",
       "    <tr>\n",
       "      <th>King-Martinez</th>\n",
       "      <td>23547</td>\n",
       "      <td>1025412557692161869</td>\n",
       "      <td>-4.1</td>\n",
       "      <td>4</td>\n",
       "    </tr>\n",
       "    <tr>\n",
       "      <th>...</th>\n",
       "      <td>...</td>\n",
       "      <td>...</td>\n",
       "      <td>...</td>\n",
       "      <td>...</td>\n",
       "    </tr>\n",
       "    <tr>\n",
       "      <th>Calderon Group</th>\n",
       "      <td>67400</td>\n",
       "      <td>7835946918283624313</td>\n",
       "      <td>16.5</td>\n",
       "      <td>4999995</td>\n",
       "    </tr>\n",
       "    <tr>\n",
       "      <th>Saunders, Nguyen and Kelley</th>\n",
       "      <td>88077</td>\n",
       "      <td>1651052092089589948</td>\n",
       "      <td>1.6</td>\n",
       "      <td>4999996</td>\n",
       "    </tr>\n",
       "    <tr>\n",
       "      <th>Williams-Espinoza</th>\n",
       "      <td>46322</td>\n",
       "      <td>1567068918233516510</td>\n",
       "      <td>3.6</td>\n",
       "      <td>4999997</td>\n",
       "    </tr>\n",
       "    <tr>\n",
       "      <th>Thomas and Sons</th>\n",
       "      <td>01607</td>\n",
       "      <td>5521337671676790891</td>\n",
       "      <td>5.2</td>\n",
       "      <td>4999998</td>\n",
       "    </tr>\n",
       "    <tr>\n",
       "      <th>Lopez-Humphrey</th>\n",
       "      <td>97686</td>\n",
       "      <td>811787839575030212</td>\n",
       "      <td>4.5</td>\n",
       "      <td>4999999</td>\n",
       "    </tr>\n",
       "  </tbody>\n",
       "</table>\n",
       "<p>5000000 rows × 4 columns</p>\n",
       "</div>"
      ],
      "text/plain": [
       "                             zipcode         storage_size  headcount_change  \\\n",
       "Miller, Massey and Dominguez   98642  1309403095887968886               7.6   \n",
       "Jackson-Miller                 30848  7527013096493984921               5.3   \n",
       "Joyce Ltd                      72583  8724801935611110034              16.1   \n",
       "Benson, Vargas and Robinson    84575   895200032852436667               1.5   \n",
       "King-Martinez                  23547  1025412557692161869              -4.1   \n",
       "...                              ...                  ...               ...   \n",
       "Calderon Group                 67400  7835946918283624313              16.5   \n",
       "Saunders, Nguyen and Kelley    88077  1651052092089589948               1.6   \n",
       "Williams-Espinoza              46322  1567068918233516510               3.6   \n",
       "Thomas and Sons                01607  5521337671676790891               5.2   \n",
       "Lopez-Humphrey                 97686   811787839575030212               4.5   \n",
       "\n",
       "                              sort_id  \n",
       "Miller, Massey and Dominguez        0  \n",
       "Jackson-Miller                      1  \n",
       "Joyce Ltd                           2  \n",
       "Benson, Vargas and Robinson         3  \n",
       "King-Martinez                       4  \n",
       "...                               ...  \n",
       "Calderon Group                4999995  \n",
       "Saunders, Nguyen and Kelley   4999996  \n",
       "Williams-Espinoza             4999997  \n",
       "Thomas and Sons               4999998  \n",
       "Lopez-Humphrey                4999999  \n",
       "\n",
       "[5000000 rows x 4 columns]"
      ]
     },
     "execution_count": 11,
     "metadata": {},
     "output_type": "execute_result"
    }
   ],
   "source": [
    "df"
   ]
  },
  {
   "cell_type": "code",
   "execution_count": 12,
   "metadata": {},
   "outputs": [
    {
     "name": "stdout",
     "output_type": "stream",
     "text": [
      "The random index is: `Mccoy LLC`\n"
     ]
    }
   ],
   "source": [
    "RANDOM_ILOC = 4907\n",
    "RANDOM_IDX = df.index[RANDOM_ILOC]\n",
    "print(f\"The random index is: `{RANDOM_IDX}`\")"
   ]
  },
  {
   "cell_type": "code",
   "execution_count": 13,
   "metadata": {},
   "outputs": [
    {
     "name": "stdout",
     "output_type": "stream",
     "text": [
      "68 ms ± 2.34 ms per loop (mean ± std. dev. of 7 runs, 1 loop each)\n"
     ]
    }
   ],
   "source": [
    "%timeit df.loc[RANDOM_IDX]"
   ]
  },
  {
   "cell_type": "code",
   "execution_count": 14,
   "metadata": {},
   "outputs": [
    {
     "name": "stdout",
     "output_type": "stream",
     "text": [
      "CPU times: user 6.62 s, sys: 741 ms, total: 7.36 s\n",
      "Wall time: 7.4 s\n"
     ]
    }
   ],
   "source": [
    "%time sorted_df = df.reset_index().sort_values([\"index\", \"sort_id\"]).set_index(\"index\")  # Stable sort"
   ]
  },
  {
   "cell_type": "code",
   "execution_count": 15,
   "metadata": {},
   "outputs": [
    {
     "name": "stdout",
     "output_type": "stream",
     "text": [
      "229 µs ± 64.3 µs per loop (mean ± std. dev. of 7 runs, 1 loop each)\n"
     ]
    }
   ],
   "source": [
    "%timeit sorted_df.loc[RANDOM_IDX]"
   ]
  },
  {
   "cell_type": "code",
   "execution_count": 16,
   "metadata": {
    "collapsed": true
   },
   "outputs": [],
   "source": [
    "def custom_func(row) -> int:\n",
    "    return zlib.crc32(row[\"zipcode\"].encode(\"ascii\") + str(row[\"storage_size\"]).encode(\"ascii\"))\n",
    "\n",
    "def ops_per_slice(mini_df: pd.DataFrame) -> pd.DataFrame:\n",
    "    mini_df[\"hash\"] = mini_df.apply(custom_func, axis=1)\n",
    "    mini_df[\"prev_change\"] = mini_df[\"headcount_change\"].shift()\n",
    "    return mini_df"
   ]
  },
  {
   "cell_type": "code",
   "execution_count": 17,
   "metadata": {
    "collapsed": true
   },
   "outputs": [],
   "source": [
    "def operations_on_df(input_df: pd.DataFrame, index_values, percent: int = 1) -> pd.DataFrame:\n",
    "    assert percent > 0\n",
    "    assert percent <= 100\n",
    "\n",
    "    # We just want a fraction of it for demo\n",
    "    indexes = index_values[:int(percent * len(index_values) / 100)]\n",
    "    \n",
    "    result_dfs = []\n",
    "\n",
    "    for index in tqdm(indexes):\n",
    "        mini_df = input_df.loc[[index]]\n",
    "        tmp_res = ops_per_slice(mini_df)\n",
    "        result_dfs.append(tmp_res)\n",
    "        \n",
    "    return pd.concat(result_dfs)"
   ]
  },
  {
   "cell_type": "code",
   "execution_count": 18,
   "metadata": {
    "collapsed": true
   },
   "outputs": [],
   "source": [
    "unique_index_values = df.index.unique()"
   ]
  },
  {
   "cell_type": "code",
   "execution_count": 19,
   "metadata": {},
   "outputs": [
    {
     "name": "stderr",
     "output_type": "stream",
     "text": [
      "100%|██████████| 303/303 [00:31<00:00,  9.56it/s]\n"
     ]
    },
    {
     "name": "stdout",
     "output_type": "stream",
     "text": [
      "CPU times: user 31.3 s, sys: 453 ms, total: 31.8 s\n",
      "Wall time: 31.9 s\n"
     ]
    },
    {
     "data": {
      "text/html": [
       "<div>\n",
       "<style scoped>\n",
       "    .dataframe tbody tr th:only-of-type {\n",
       "        vertical-align: middle;\n",
       "    }\n",
       "\n",
       "    .dataframe tbody tr th {\n",
       "        vertical-align: top;\n",
       "    }\n",
       "\n",
       "    .dataframe thead th {\n",
       "        text-align: right;\n",
       "    }\n",
       "</style>\n",
       "<table border=\"1\" class=\"dataframe\">\n",
       "  <thead>\n",
       "    <tr style=\"text-align: right;\">\n",
       "      <th></th>\n",
       "      <th>zipcode</th>\n",
       "      <th>storage_size</th>\n",
       "      <th>headcount_change</th>\n",
       "      <th>sort_id</th>\n",
       "      <th>hash</th>\n",
       "      <th>prev_change</th>\n",
       "    </tr>\n",
       "  </thead>\n",
       "  <tbody>\n",
       "    <tr>\n",
       "      <th>Miller, Massey and Dominguez</th>\n",
       "      <td>98642</td>\n",
       "      <td>1309403095887968886</td>\n",
       "      <td>7.6</td>\n",
       "      <td>0</td>\n",
       "      <td>1269636874</td>\n",
       "      <td>NaN</td>\n",
       "    </tr>\n",
       "    <tr>\n",
       "      <th>Miller, Massey and Dominguez</th>\n",
       "      <td>63775</td>\n",
       "      <td>9045136122858270551</td>\n",
       "      <td>15.7</td>\n",
       "      <td>165408</td>\n",
       "      <td>2957381248</td>\n",
       "      <td>7.6</td>\n",
       "    </tr>\n",
       "    <tr>\n",
       "      <th>Miller, Massey and Dominguez</th>\n",
       "      <td>71754</td>\n",
       "      <td>2309013742917052620</td>\n",
       "      <td>14.1</td>\n",
       "      <td>174504</td>\n",
       "      <td>1229437809</td>\n",
       "      <td>15.7</td>\n",
       "    </tr>\n",
       "    <tr>\n",
       "      <th>Miller, Massey and Dominguez</th>\n",
       "      <td>66870</td>\n",
       "      <td>7227176668219853390</td>\n",
       "      <td>-4.0</td>\n",
       "      <td>235664</td>\n",
       "      <td>105493545</td>\n",
       "      <td>14.1</td>\n",
       "    </tr>\n",
       "    <tr>\n",
       "      <th>Miller, Massey and Dominguez</th>\n",
       "      <td>96288</td>\n",
       "      <td>8854011211758293512</td>\n",
       "      <td>10.7</td>\n",
       "      <td>243327</td>\n",
       "      <td>1060640964</td>\n",
       "      <td>-4.0</td>\n",
       "    </tr>\n",
       "    <tr>\n",
       "      <th>...</th>\n",
       "      <td>...</td>\n",
       "      <td>...</td>\n",
       "      <td>...</td>\n",
       "      <td>...</td>\n",
       "      <td>...</td>\n",
       "      <td>...</td>\n",
       "    </tr>\n",
       "    <tr>\n",
       "      <th>Simmons Inc</th>\n",
       "      <td>81968</td>\n",
       "      <td>7971629664862632961</td>\n",
       "      <td>15.2</td>\n",
       "      <td>4969760</td>\n",
       "      <td>318594056</td>\n",
       "      <td>-3.5</td>\n",
       "    </tr>\n",
       "    <tr>\n",
       "      <th>Simmons Inc</th>\n",
       "      <td>77207</td>\n",
       "      <td>8135773933147396136</td>\n",
       "      <td>19.6</td>\n",
       "      <td>4978862</td>\n",
       "      <td>3354772453</td>\n",
       "      <td>15.2</td>\n",
       "    </tr>\n",
       "    <tr>\n",
       "      <th>Simmons Inc</th>\n",
       "      <td>24521</td>\n",
       "      <td>1005463141032933360</td>\n",
       "      <td>18.4</td>\n",
       "      <td>4985335</td>\n",
       "      <td>2648020905</td>\n",
       "      <td>19.6</td>\n",
       "    </tr>\n",
       "    <tr>\n",
       "      <th>Simmons Inc</th>\n",
       "      <td>83026</td>\n",
       "      <td>1874800644985251847</td>\n",
       "      <td>18.0</td>\n",
       "      <td>4991952</td>\n",
       "      <td>2593587407</td>\n",
       "      <td>18.4</td>\n",
       "    </tr>\n",
       "    <tr>\n",
       "      <th>Simmons Inc</th>\n",
       "      <td>85168</td>\n",
       "      <td>7736121880311486835</td>\n",
       "      <td>-3.8</td>\n",
       "      <td>4993426</td>\n",
       "      <td>944390850</td>\n",
       "      <td>18.0</td>\n",
       "    </tr>\n",
       "  </tbody>\n",
       "</table>\n",
       "<p>119956 rows × 6 columns</p>\n",
       "</div>"
      ],
      "text/plain": [
       "                             zipcode         storage_size  headcount_change  \\\n",
       "Miller, Massey and Dominguez   98642  1309403095887968886               7.6   \n",
       "Miller, Massey and Dominguez   63775  9045136122858270551              15.7   \n",
       "Miller, Massey and Dominguez   71754  2309013742917052620              14.1   \n",
       "Miller, Massey and Dominguez   66870  7227176668219853390              -4.0   \n",
       "Miller, Massey and Dominguez   96288  8854011211758293512              10.7   \n",
       "...                              ...                  ...               ...   \n",
       "Simmons Inc                    81968  7971629664862632961              15.2   \n",
       "Simmons Inc                    77207  8135773933147396136              19.6   \n",
       "Simmons Inc                    24521  1005463141032933360              18.4   \n",
       "Simmons Inc                    83026  1874800644985251847              18.0   \n",
       "Simmons Inc                    85168  7736121880311486835              -3.8   \n",
       "\n",
       "                              sort_id        hash  prev_change  \n",
       "Miller, Massey and Dominguez        0  1269636874          NaN  \n",
       "Miller, Massey and Dominguez   165408  2957381248          7.6  \n",
       "Miller, Massey and Dominguez   174504  1229437809         15.7  \n",
       "Miller, Massey and Dominguez   235664   105493545         14.1  \n",
       "Miller, Massey and Dominguez   243327  1060640964         -4.0  \n",
       "...                               ...         ...          ...  \n",
       "Simmons Inc                   4969760   318594056         -3.5  \n",
       "Simmons Inc                   4978862  3354772453         15.2  \n",
       "Simmons Inc                   4985335  2648020905         19.6  \n",
       "Simmons Inc                   4991952  2593587407         18.4  \n",
       "Simmons Inc                   4993426   944390850         18.0  \n",
       "\n",
       "[119956 rows x 6 columns]"
      ]
     },
     "execution_count": 19,
     "metadata": {},
     "output_type": "execute_result"
    }
   ],
   "source": [
    "%time operations_on_df(df, unique_index_values)"
   ]
  },
  {
   "cell_type": "code",
   "execution_count": 20,
   "metadata": {
    "scrolled": false
   },
   "outputs": [
    {
     "name": "stderr",
     "output_type": "stream",
     "text": [
      "100%|██████████| 303/303 [00:03<00:00, 82.14it/s] \n"
     ]
    },
    {
     "name": "stdout",
     "output_type": "stream",
     "text": [
      "CPU times: user 3.93 s, sys: 76.5 ms, total: 4 s\n",
      "Wall time: 4 s\n"
     ]
    },
    {
     "data": {
      "text/html": [
       "<div>\n",
       "<style scoped>\n",
       "    .dataframe tbody tr th:only-of-type {\n",
       "        vertical-align: middle;\n",
       "    }\n",
       "\n",
       "    .dataframe tbody tr th {\n",
       "        vertical-align: top;\n",
       "    }\n",
       "\n",
       "    .dataframe thead th {\n",
       "        text-align: right;\n",
       "    }\n",
       "</style>\n",
       "<table border=\"1\" class=\"dataframe\">\n",
       "  <thead>\n",
       "    <tr style=\"text-align: right;\">\n",
       "      <th></th>\n",
       "      <th>zipcode</th>\n",
       "      <th>storage_size</th>\n",
       "      <th>headcount_change</th>\n",
       "      <th>sort_id</th>\n",
       "      <th>hash</th>\n",
       "      <th>prev_change</th>\n",
       "    </tr>\n",
       "    <tr>\n",
       "      <th>index</th>\n",
       "      <th></th>\n",
       "      <th></th>\n",
       "      <th></th>\n",
       "      <th></th>\n",
       "      <th></th>\n",
       "      <th></th>\n",
       "    </tr>\n",
       "  </thead>\n",
       "  <tbody>\n",
       "    <tr>\n",
       "      <th>Miller, Massey and Dominguez</th>\n",
       "      <td>98642</td>\n",
       "      <td>1309403095887968886</td>\n",
       "      <td>7.6</td>\n",
       "      <td>0</td>\n",
       "      <td>1269636874</td>\n",
       "      <td>NaN</td>\n",
       "    </tr>\n",
       "    <tr>\n",
       "      <th>Miller, Massey and Dominguez</th>\n",
       "      <td>63775</td>\n",
       "      <td>9045136122858270551</td>\n",
       "      <td>15.7</td>\n",
       "      <td>165408</td>\n",
       "      <td>2957381248</td>\n",
       "      <td>7.6</td>\n",
       "    </tr>\n",
       "    <tr>\n",
       "      <th>Miller, Massey and Dominguez</th>\n",
       "      <td>71754</td>\n",
       "      <td>2309013742917052620</td>\n",
       "      <td>14.1</td>\n",
       "      <td>174504</td>\n",
       "      <td>1229437809</td>\n",
       "      <td>15.7</td>\n",
       "    </tr>\n",
       "    <tr>\n",
       "      <th>Miller, Massey and Dominguez</th>\n",
       "      <td>66870</td>\n",
       "      <td>7227176668219853390</td>\n",
       "      <td>-4.0</td>\n",
       "      <td>235664</td>\n",
       "      <td>105493545</td>\n",
       "      <td>14.1</td>\n",
       "    </tr>\n",
       "    <tr>\n",
       "      <th>Miller, Massey and Dominguez</th>\n",
       "      <td>96288</td>\n",
       "      <td>8854011211758293512</td>\n",
       "      <td>10.7</td>\n",
       "      <td>243327</td>\n",
       "      <td>1060640964</td>\n",
       "      <td>-4.0</td>\n",
       "    </tr>\n",
       "    <tr>\n",
       "      <th>...</th>\n",
       "      <td>...</td>\n",
       "      <td>...</td>\n",
       "      <td>...</td>\n",
       "      <td>...</td>\n",
       "      <td>...</td>\n",
       "      <td>...</td>\n",
       "    </tr>\n",
       "    <tr>\n",
       "      <th>Simmons Inc</th>\n",
       "      <td>81968</td>\n",
       "      <td>7971629664862632961</td>\n",
       "      <td>15.2</td>\n",
       "      <td>4969760</td>\n",
       "      <td>318594056</td>\n",
       "      <td>-3.5</td>\n",
       "    </tr>\n",
       "    <tr>\n",
       "      <th>Simmons Inc</th>\n",
       "      <td>77207</td>\n",
       "      <td>8135773933147396136</td>\n",
       "      <td>19.6</td>\n",
       "      <td>4978862</td>\n",
       "      <td>3354772453</td>\n",
       "      <td>15.2</td>\n",
       "    </tr>\n",
       "    <tr>\n",
       "      <th>Simmons Inc</th>\n",
       "      <td>24521</td>\n",
       "      <td>1005463141032933360</td>\n",
       "      <td>18.4</td>\n",
       "      <td>4985335</td>\n",
       "      <td>2648020905</td>\n",
       "      <td>19.6</td>\n",
       "    </tr>\n",
       "    <tr>\n",
       "      <th>Simmons Inc</th>\n",
       "      <td>83026</td>\n",
       "      <td>1874800644985251847</td>\n",
       "      <td>18.0</td>\n",
       "      <td>4991952</td>\n",
       "      <td>2593587407</td>\n",
       "      <td>18.4</td>\n",
       "    </tr>\n",
       "    <tr>\n",
       "      <th>Simmons Inc</th>\n",
       "      <td>85168</td>\n",
       "      <td>7736121880311486835</td>\n",
       "      <td>-3.8</td>\n",
       "      <td>4993426</td>\n",
       "      <td>944390850</td>\n",
       "      <td>18.0</td>\n",
       "    </tr>\n",
       "  </tbody>\n",
       "</table>\n",
       "<p>119956 rows × 6 columns</p>\n",
       "</div>"
      ],
      "text/plain": [
       "                             zipcode         storage_size  headcount_change  \\\n",
       "index                                                                         \n",
       "Miller, Massey and Dominguez   98642  1309403095887968886               7.6   \n",
       "Miller, Massey and Dominguez   63775  9045136122858270551              15.7   \n",
       "Miller, Massey and Dominguez   71754  2309013742917052620              14.1   \n",
       "Miller, Massey and Dominguez   66870  7227176668219853390              -4.0   \n",
       "Miller, Massey and Dominguez   96288  8854011211758293512              10.7   \n",
       "...                              ...                  ...               ...   \n",
       "Simmons Inc                    81968  7971629664862632961              15.2   \n",
       "Simmons Inc                    77207  8135773933147396136              19.6   \n",
       "Simmons Inc                    24521  1005463141032933360              18.4   \n",
       "Simmons Inc                    83026  1874800644985251847              18.0   \n",
       "Simmons Inc                    85168  7736121880311486835              -3.8   \n",
       "\n",
       "                              sort_id        hash  prev_change  \n",
       "index                                                           \n",
       "Miller, Massey and Dominguez        0  1269636874          NaN  \n",
       "Miller, Massey and Dominguez   165408  2957381248          7.6  \n",
       "Miller, Massey and Dominguez   174504  1229437809         15.7  \n",
       "Miller, Massey and Dominguez   235664   105493545         14.1  \n",
       "Miller, Massey and Dominguez   243327  1060640964         -4.0  \n",
       "...                               ...         ...          ...  \n",
       "Simmons Inc                   4969760   318594056         -3.5  \n",
       "Simmons Inc                   4978862  3354772453         15.2  \n",
       "Simmons Inc                   4985335  2648020905         19.6  \n",
       "Simmons Inc                   4991952  2593587407         18.4  \n",
       "Simmons Inc                   4993426   944390850         18.0  \n",
       "\n",
       "[119956 rows x 6 columns]"
      ]
     },
     "execution_count": 20,
     "metadata": {},
     "output_type": "execute_result"
    }
   ],
   "source": [
    "%time operations_on_df(sorted_df, unique_index_values)"
   ]
  },
  {
   "cell_type": "code",
   "execution_count": null,
   "metadata": {
    "collapsed": true
   },
   "outputs": [],
   "source": []
  }
 ],
 "metadata": {
  "kernelspec": {
   "display_name": "wise-data-cat-01",
   "language": "python",
   "name": "wise-data-cat-01"
  },
  "language_info": {
   "codemirror_mode": {
    "name": "ipython",
    "version": 3
   },
   "file_extension": ".py",
   "mimetype": "text/x-python",
   "name": "python",
   "nbconvert_exporter": "python",
   "pygments_lexer": "ipython3",
   "version": "3.6.3"
  }
 },
 "nbformat": 4,
 "nbformat_minor": 5
}
